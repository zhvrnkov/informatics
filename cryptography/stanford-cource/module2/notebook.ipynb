{
 "cells": [
  {
   "cell_type": "markdown",
   "id": "2d754ff3",
   "metadata": {},
   "source": [
    "# Module 2 (Block ciphers)"
   ]
  },
  {
   "cell_type": "markdown",
   "id": "144e04a8",
   "metadata": {},
   "source": [
    "### What are block ciperhs?"
   ]
  },
  {
   "cell_type": "markdown",
   "id": "d4cdad59",
   "metadata": {},
   "source": [
    "While stream ciphers operate on stream of bits:\n",
    "> (formally stream cipher works on bits (0 or 1) but this stream_cipher works on bytes but the idea is shown in general)"
   ]
  },
  {
   "cell_type": "code",
   "execution_count": 45,
   "id": "b983a331",
   "metadata": {},
   "outputs": [
    {
     "name": "stdout",
     "output_type": "stream",
     "text": [
      "聕䁻⁣遫䡬ꐡ퉦楲㓯ᨭഀ蛿䌥ꇗ傹\n",
      "hello from omsk\n"
     ]
    }
   ],
   "source": [
    "def message_generator(message):\n",
    "    for m in message:\n",
    "        yield m\n",
    "\n",
    "def prg_generator(seed):\n",
    "    taps = [16, 14, 13, 11]\n",
    "    lfsr = seed\n",
    "    while True:\n",
    "        bit = 0\n",
    "        for t in taps:\n",
    "            bit = bit ^ ((lfsr >> (16 - t)) & 0b1)\n",
    "        lfsr = (lfsr >> 1) | (bit << 15)\n",
    "        yield lfsr\n",
    "        if lfsr == seed or lfsr == 0:\n",
    "            break\n",
    "\n",
    "def stream_cipher(message_gen, key_gen) -> list[bool]:\n",
    "    return ''.join([chr(ord(m) ^ k) for (m, k) in zip(message_gen, key_gen)])\n",
    "\n",
    "ptext = 'hello from omsk'\n",
    "ctext = stream_cipher(message_generator('hello from omsk'), prg_generator(123))\n",
    "print(ctext)\n",
    "dtext = stream_cipher(message_generator(ctext), prg_generator(123))\n",
    "print(dtext)"
   ]
  },
  {
   "cell_type": "markdown",
   "id": "04c9d1af",
   "metadata": {},
   "source": [
    "But the Block Ciphers works on Blocks. There are two main blocks in block cipher:\n",
    "- input/output block of size n\n",
    "- key block of size k"
   ]
  },
  {
   "cell_type": "code",
   "execution_count": 46,
   "id": "5cb5e1be",
   "metadata": {},
   "outputs": [],
   "source": [
    "# for AES128\n",
    "N = 128\n",
    "K = 128\n",
    "def block_cipher(ptext: list[bool], key: list[bool]) -> list[bool]:\n",
    "    assert(len(ptext) == N)\n",
    "    assert(len(key) == K)\n",
    "\n",
    "    ks = key_expansion(key)\n",
    "    # for AES128 # of key (rounds) is 10\n",
    "    assert(len(ks) == 10)\n",
    "\n",
    "    m = ptext\n",
    "    for k in ks:\n",
    "        m = round_function(k, m)\n",
    "    \n",
    "    return m\n",
    "\n",
    "# PRF? PRG?\n",
    "def round_function(k: list[bool], m: list[bool]) -> list[bool]:\n",
    "    pass\n",
    "\n",
    "def key_expansion(key: list[bool]) -> list[list[bool]]:\n",
    "    pass"
   ]
  },
  {
   "cell_type": "markdown",
   "id": "17a74ab0",
   "metadata": {},
   "source": [
    "##### PRF and PRP\n",
    "1. PRF is a Pseudo Random Function:\n",
    "   - E : K -> X -> Y\n",
    "2. PRP is a Pseudo Random Permutation:\n",
    "    - E is PRP\n",
    "    - E : K -> X -> X\n",
    "    - E is efficient and deterministic algorithm\n",
    "    - E is one to one. E is reversible. E is bijective\n",
    "    - reverse(E) is efficient algorithm\n",
    "\n",
    "> PRP is a PRF but PRP output is X (input space) which means that PRP is invertible PRF\n",
    "\n",
    "\n",
    "Using PRG you can easily construct PRG:\n",
    "- assume that we got PRF F that is secure PRF\n",
    "- that F : X -> K -> Y. Y is {0, 1} ^ n\n",
    "- then our PRG : K -> {0, 1} ^ nt = G(k, 0) || G(k, 1) || ... || G(k, t)\n",
    "- and that is secure PRG\n",
    "- secure because if F is secure, then F can be replaces by truly random funciton f (which provides truly random sequence of n bits)\n",
    "- and then PRG is f(0) || f(1) || ... which is truly random\n"
   ]
  },
  {
   "cell_type": "markdown",
   "id": "5041d10e",
   "metadata": {},
   "source": [
    "### The DES (data encryption standard)\n",
    "\n",
    "The Feistel is the main guy behind DES. He also invent a Feistel Network algorithm:"
   ]
  },
  {
   "cell_type": "code",
   "execution_count": 47,
   "id": "39db54c8",
   "metadata": {},
   "outputs": [
    {
     "name": "stdout",
     "output_type": "stream",
     "text": [
      "823186317099862 4\n"
     ]
    }
   ],
   "source": [
    "def feistel_round(l, r, f):\n",
    "    return (r, f(r) ^ l)\n",
    "\n",
    "def feistel_network(input, f, N = 3):\n",
    "    l, r = dword_decay(input)\n",
    "    for i in range(N):\n",
    "        l, r = feistel_round(l, r, f(i))\n",
    "    return dword_bound(l, r)\n",
    "\n",
    "def dword_decay(n):\n",
    "    return ((n >> 32) & 0xFFFFFFFF, n & 0xFFFFFFFF)\n",
    "\n",
    "def dword_bound(l, r):\n",
    "    return ((l & 0xFFFFFFFF) << 32 | r & 0xFFFFFFFF) \n",
    "\n",
    "def dword_swapped(n):\n",
    "    l, r = dword_decay(n)\n",
    "    return (r << 32 | l)\n",
    "\n",
    "n = 4\n",
    "f = lambda i: lambda x: x * 33911 % 482901\n",
    "\n",
    "n0 = feistel_network(n, f)\n",
    "n1 = dword_swapped(feistel_network(dword_swapped(n0), f))\n",
    "\n",
    "print(n0, n1)\n"
   ]
  },
  {
   "cell_type": "markdown",
   "id": "83b0b280",
   "metadata": {},
   "source": [
    "DES algorithm is 16 round feistel network (N = 16) with 64 bits input/output \n",
    "\n",
    "Each round function f_i (where 0 <= i < N) is simply:\n",
    "```raw\n",
    "f_i = F(k_i, x)\n",
    "```\n",
    "\n",
    "In other words same F just used with different keys\n",
    "\n",
    "DES key length is 56 bits and from this 56 bit key somehow derived 16 48 bit keys (k_i) (48 = 32 + 16)"
   ]
  },
  {
   "cell_type": "code",
   "execution_count": 48,
   "id": "3cbfacee",
   "metadata": {},
   "outputs": [
    {
     "name": "stdout",
     "output_type": "stream",
     "text": [
      "123 50384561271821664 123\n"
     ]
    }
   ],
   "source": [
    "# expand x from 32 bits to 48\n",
    "# via bits shuffling and copying and etc\n",
    "def expand_x(x):\n",
    "    return ((x << 32) | x) & 0xFFFFFFFFFFFF\n",
    "\n",
    "# S box takes x as 6 bit value and map it to 4 bit value via LUT\n",
    "def S(i, x):\n",
    "    return x & 0b1111\n",
    "\n",
    "def F(k_i, x):\n",
    "    ex = expand_x(x)\n",
    "    # 48 bit value\n",
    "    ex_xor_k = ex ^ k_i\n",
    "    out = 0\n",
    "    for i in range(8):\n",
    "        S_out = S(i, (ex_xor_k >> (i * 6) & 0b111111))\n",
    "        out = out | (S_out << (i * 4))\n",
    "\n",
    "    return out\n",
    "\n",
    "# return 16 48 bit keys\n",
    "def key_expansion(k, inverse=False):\n",
    "    ks = []\n",
    "    rangee = reversed(range(8)) if inverse else range(8)\n",
    "    for i in rangee:\n",
    "        k_i = (k << i & 0xFFFFFFFFFFFF)\n",
    "        k_i_bytes = bytearray()\n",
    "        for j in range(6):\n",
    "            k_i_bytes.append(k_i << (j * 8) & 0xFF)\n",
    "        if inverse:\n",
    "            ks.append(int.from_bytes(k_i_bytes, byteorder='big'))\n",
    "            ks.append(int.from_bytes(k_i_bytes, byteorder='little'))\n",
    "        else:\n",
    "            ks.append(int.from_bytes(k_i_bytes, byteorder='little'))\n",
    "            ks.append(int.from_bytes(k_i_bytes, byteorder='big'))\n",
    "    return ks\n",
    "\n",
    "# sizeof(k) = 56 bits; sizeof(p) = 64 bits\n",
    "def DES(k, p, encrypt=True):\n",
    "    N = 16\n",
    "    ks = key_expansion(k, inverse=not encrypt)\n",
    "    if not encrypt:\n",
    "        p = dword_swapped(p)\n",
    "    c = feistel_network(p, lambda i: lambda x: F(ks[i], x), N)\n",
    "    if not encrypt:\n",
    "        c = dword_swapped(c)\n",
    "    return c\n",
    "\n",
    "k = 0xF3A87C31\n",
    "p = 123\n",
    "c = DES(k, p)\n",
    "dc = DES(k, c, False)\n",
    "print(p, c, dc)"
   ]
  },
  {
   "cell_type": "markdown",
   "id": "adbcd114",
   "metadata": {},
   "source": [
    "If S-box is linear function, for example it xors its bits in some order:\n",
    "```raw\n",
    "o0 = i0 ^ i3\n",
    "o1 = i1 ^ i5\n",
    "o2 = i2 ^ i4\n",
    "o3 = i2 ^ i3 ^ i5\n",
    "```\n",
    "\n",
    "then whole S-box can be represented as vector matrix multiplication mod 2, where:\n",
    "```raw\n",
    "| 1 0 0 1 0 0 |   |i0|   |o0|\n",
    "| 0 1 0 0 0 1 | * |i1| = |o1|\n",
    "| 0 0 1 0 1 0 |   |i2|   |o2|\n",
    "| 0 0 1 1 0 1 |   |i3|   |o3|          \n",
    "                  |i4|     \n",
    "                  |i5|     \n",
    "```\n",
    "\n",
    "And furthermore the whole DES can be represented as matrix multiplication where there is:\n",
    "- matrix B with 832 x 64\n",
    "- vector X with 1 x 832 [m..., k0..., k1..., ..., k15...] expanded bits of message (64) and 16 * 48 bits of keys\n",
    "- B * X is the C which is the output of DES\n",
    "\n",
    "In that case there is huge vulnerability for DES:\n",
    "```raw\n",
    "DES(k, x) = B * [x..., k...]\n",
    "DES(k, x0) ^ DES(k, x1) ^ DES(k, x2) = DES(k, x0 ^ x1 ^ x2)\n",
    "```\n",
    "\n",
    "which is a huge deal because there is no semantic secrecy for such DES since given DES(k, x0) and DES(k, x1) you can distringuish them:\n",
    "```raw\n",
    "Got x0 and x1\n",
    "Gives x0, x1 and x0 ^ x1\n",
    "Get one of DES(k, x0), DES(k, x1) or DES(k, x0 ^ x1)\n",
    "Received all of DES outputs can map DES output to source x since DES(k, x0 ^ x1) = DEK(k, x0) ^ DES(k, x1)\n",
    "```\n",
    "\n",
    "And to avoid this potential vulnerability the **S boxes must NOT BE LINEAR**"
   ]
  },
  {
   "cell_type": "markdown",
   "id": "81f64623",
   "metadata": {},
   "source": [
    "### Exhaustive search attacks\n",
    "Attack:\n",
    "- given c and m where c = DES(k, m)\n",
    "- find k knowing c and m\n",
    "\n",
    "Q: how many such k are there. We know that m is encrypted using the specific key, but is there only one key k such that c = DES(k, m)?\\\n",
    "A: \n",
    "- suppose DES is an ideal cipher\n",
    "- then DES is a collection of random invertible functions f: {0, 1}^64 -> {0, 1}^64 and the size of this collection is 2^56 (because there is 2^56 keys)\n",
    "- we got k such that c = DES(k, m)\n",
    "- there are 2^56 - 1 keys left, lets call them K'\n",
    "- what is the probability that there is k' from K' such that c = DES(k, m) = DES(k', m)?\n",
    "\n",
    "More formally:\n",
    "```raw\n",
    "Pr [DES(k, m) = DES(k', m)]\n",
    "\n",
    "m -> DES(*, m) -> 2^56 different c's\n",
    "\n",
    "DES(k) defines a permutation P. sizeof(P) = 2^64. P is uniformly distributed. All elements in P are unique (since DES(k) is invertible which means that DES(k, m) is bijective function one to one mapping). And encryption using DES is just sampling this permutation DES(k) at index m or DES(k)[m]\n",
    "\n",
    "DES(*) defines 2^56 such permutations so we can even simplify:\n",
    "DES = list[list[int]]\n",
    "DES_encrypt(k, m) => DES[k][m]\n",
    "\n",
    "In that case Pr [DES(k, m) = DES(k', m)] = 1/2^64 (sample DES(k')[m] = c with probability = 1/2^64)\n",
    "But there are 2^56 such k'\n",
    "So probability that there are such k' in K' is (2^56 - 1) * (1 / 2^64) = 1/256\n",
    "```"
   ]
  },
  {
   "cell_type": "markdown",
   "id": "96498a0e",
   "metadata": {},
   "source": [
    "**EACH MATHEMATICAL DISCRETE FUNCTION IS A PERMUTATION P** where sizeof(P) = sizeof(input space) and sizeof(uniques(P)) = sizeof(output space)\n",
    "\n",
    "Each f :: input -> output defines a permutation P_f :: output[sizeof(input)] and\\\n",
    "f becomes f x = P_f[x]"
   ]
  },
  {
   "cell_type": "code",
   "execution_count": 49,
   "id": "2c78f392",
   "metadata": {},
   "outputs": [],
   "source": [
    "def DES_P(k) -> list[int]:\n",
    "    xs = [] # range(2^64)\n",
    "    shuffle(xs, k) # shuffle xs based on k\n",
    "    return xs\n",
    "\n",
    "def DES_encrypt(k, m):\n",
    "    return DES_P(k)[m]"
   ]
  },
  {
   "cell_type": "markdown",
   "id": "c3d89582",
   "metadata": {},
   "source": [
    "- DES is invertible since its a feistel_network\n",
    "- is lambda x: F(k_i, x) must be invertible? no because feistel_network is invertible with any F. And in fact F uses S boxes and S boxes are not invertible because it maps 2^6 into 2^4!!!\n",
    "- but feistel_round itself is invertible with any F since it uses xor and that's the property of feistel_network -- its invertible with any F\n",
    "\n",
    "Q: Is feistel_round invertible?\\\n",
    "A: YES!"
   ]
  },
  {
   "cell_type": "code",
   "execution_count": 50,
   "id": "8efae18f",
   "metadata": {},
   "outputs": [
    {
     "name": "stdout",
     "output_type": "stream",
     "text": [
      "43215956647446826 10061999\n"
     ]
    }
   ],
   "source": [
    "n = 10061999\n",
    "f = lambda x: dword_bound(*feistel_round(*dword_decay(x), lambda x: x + 123))\n",
    "f_inv = lambda x: dword_swapped(dword_bound(*feistel_round(*dword_decay(dword_swapped(x)), lambda x: x + 123)))\n",
    "\n",
    "print(f(n), f_inv(f(n)))"
   ]
  },
  {
   "cell_type": "markdown",
   "id": "272d206d",
   "metadata": {},
   "source": [
    "To summarize:\n",
    "- given c = DES(k, m) and m the probability that there is only one such k is 1 - 1/256\n",
    "- given c0, c1 and m0, m1 probability that there is only one such k is 1 - 1/2^71\n",
    "- that facts means that if you got only one pair (c, m) the key is completely determined (its safe to say that there is only one such k)\n",
    "\n",
    "The attack where the (c, m) are known and you derive k from it is called **exhaustive key search**\n",
    "\n",
    "The DES is completely breaked:\n",
    "- there are attacks that can break the DES encryption in 22 hours\n",
    "- there are specific computers that can do that in less then a week\n",
    "\n",
    "The simplest and \"dumbest\" solution is 3DES:"
   ]
  },
  {
   "cell_type": "code",
   "execution_count": 51,
   "id": "a9648225",
   "metadata": {},
   "outputs": [],
   "source": [
    "# sizeof(k) = 168 bits\n",
    "def DES3(k, m):\n",
    "    bits_48_mask = 0x111111111111111111111111111111111111111111111111\n",
    "    k0 = k >> 48 * 0 & bits_48_mask\n",
    "    k1 = k >> 48 * 1 & bits_48_mask\n",
    "    k2 = k >> 48 * 2 & bits_48_mask\n",
    "    return DES(k2, DES(k1, DES(k0, m, True), False), True) # E(D(E))"
   ]
  },
  {
   "cell_type": "markdown",
   "id": "23d94f52",
   "metadata": {},
   "source": [
    "Q: I wonder is the fact that DES output the same c for the same m is a vulnerability because the?"
   ]
  },
  {
   "cell_type": "code",
   "execution_count": null,
   "id": "9d951262",
   "metadata": {},
   "outputs": [
    {
     "name": "stdout",
     "output_type": "stream",
     "text": [
      "[7319812402332998806, 7319812402332998806]\n",
      "attack 0attack 0\n"
     ]
    }
   ],
   "source": [
    "text = 'attack 0attack 0'\n",
    "ctext = ''\n",
    "\n",
    "def pack2long(s, N=64):\n",
    "    assert(N % 8 == 0)\n",
    "    bytes = [ord(c) for c in s[:N//8]]\n",
    "    l = 0\n",
    "    for i, b in enumerate(bytes):\n",
    "        l = l | (b << i * 8)\n",
    "    return l\n",
    "\n",
    "def unpack2str(l, N = 8):\n",
    "    s = []\n",
    "    for i in range(N):\n",
    "        s.append(chr((l >> i * 8) & 0xFF))\n",
    "    return ''.join(s)\n",
    "\n",
    "k = 0x589dea13bc\n",
    "text_bytes = [pack2long(text[0:8]), pack2long(text[8:])]\n",
    "ctext_bytes = [DES(k, m) for m in text_bytes]\n",
    "# THE CTEXT_BYTES ARE THE SAME. ISN'T THAT BAD FOR CIPHER?\n",
    "print(ctext_bytes)\n",
    "ectext_bytes = [DES(k, c, False) for c in ctext_bytes]\n",
    "ectext = ''.join([unpack2str(ec) for ec in ectext_bytes])\n",
    "\n",
    "print(ectext)"
   ]
  },
  {
   "cell_type": "markdown",
   "id": "d3b8be23",
   "metadata": {},
   "source": [
    "##### Double DES Attack\n",
    "There is a 3DES, but 2DES doesn't improve DES security at all.\n",
    "```raw\n",
    "2DES (k0, k1, m) = E(k1, E(k0, m))\n",
    "```\n",
    "\n",
    "We need to find the (k0, k1), so:\n",
    "```raw\n",
    "E(k1, E(k0, m)) = c <=>    # O(n^2) problem because of the nested E?\n",
    "E(k0, m) = D(k1, c)        # O(2 * n) problem because of non nested E?\n",
    "```\n",
    "\n",
    "We got some number of ms and cs:\n",
    "```raw\n",
    "M = (m0, m1, ..., m9)\n",
    "C = (c0, c1, ..., c9)\n",
    "```\n",
    "\n",
    "And whole sceheme is like this:\n",
    "```raw\n",
    "m -> E(k0) -> E(k1) -> c\n",
    "```\n",
    "\n",
    "To break the 2DES compute the table t0:\n",
    "```python\n",
    "t0 = [E(k, M) for k in K]\n",
    "# t0 is list[list[int]] M is list[int]\n",
    "```\n",
    "then compute t1:\n",
    "```python\n",
    "t1 = [D(k, C) for k in K]\n",
    "```\n",
    "\n",
    "And since E(k0, m) = D(k1, c) find the intersecitons between t0 and t1\n"
   ]
  },
  {
   "cell_type": "markdown",
   "id": "1499ef37",
   "metadata": {},
   "source": [
    "### AES"
   ]
  },
  {
   "cell_type": "code",
   "execution_count": 53,
   "id": "5d314b8b",
   "metadata": {},
   "outputs": [
    {
     "data": {
      "text/plain": [
       "[178, 94, 146, 167, 235, 126, 198, 125, 229, 51, 27, 168, 225, 226, 29, 36]"
      ]
     },
     "execution_count": 53,
     "metadata": {},
     "output_type": "execute_result"
    }
   ],
   "source": [
    "# sizeof(k) = 16 bytes\n",
    "# sizeof(m) = 16 bytes\n",
    "def AES_128(k, m):\n",
    "    ks = AES_key_expansion(k)\n",
    "    for i in range(len(m)):\n",
    "        m[i] ^= ks[0][i]\n",
    "    for i, k in enumerate(ks[1:]):\n",
    "        m = AES_round(i, k, m)\n",
    "    return m\n",
    "\n",
    "def AES_round(i, k_i, m):\n",
    "    if False and i == 9: # last round\n",
    "        m = AES_ShiftRows(AES_ByteSub(m))\n",
    "    else:\n",
    "        m = AES_MixColumns(AES_ShiftRows(AES_ByteSub(m))) \n",
    "    return [(mi ^ ki) for mi, ki in zip(m, k_i)]\n",
    "\n",
    "# S box byte -> byte\n",
    "# sizeof(xs) is 16 bytex: 4x4 byte matrix\n",
    "def AES_ByteSub(xs):\n",
    "    LUT = [i for i in range(1 << 8)] # id for testing purposes\n",
    "    return [LUT[x] for x in xs]\n",
    "\n",
    "def AES_ShiftRows(xs):\n",
    "    out = [0 for _ in xs]\n",
    "    for y in range(4):\n",
    "        for x in range(4):\n",
    "            out[y * 4 + x] = xs[y * 4 + (x + y) % 4]\n",
    "    return out\n",
    "\n",
    "def AES_MixColumns(xs):\n",
    "    M = [15, 221, 21, 103, 12, 170, 94, 223, 108, 42, 49, 70, 71, 225, 149, 79]\n",
    "    out = byte_matmul(M, xs)\n",
    "    return out\n",
    "\n",
    "def byte_matmul(A, B):\n",
    "    C = [0] * 16\n",
    "    for B_x in range(4):\n",
    "        for A_y in range(4):\n",
    "            for i in range(4):\n",
    "                C[A_y * 4 + B_x] += (A[A_y * 4 + i] * B[i * 4 + B_x])\n",
    "                C[A_y * 4 + B_x] &= 0xFF\n",
    "    return C\n",
    "\n",
    "# sizeof(k) = 16 bytes\n",
    "# sizeof(out) = 11 keys; each key is 16 bytes\n",
    "def AES_key_expansion(ks):\n",
    "    return [[(k + (1 << i)) & 0xFF for k in ks] for i in range(11)]\n",
    "\n",
    "key = [ord(c) for c in unpack2str(0x31278597329485683127859732948568, N=16)]\n",
    "AES_128(key, [ord(c) for c in 'l sdgj 1dl ld ds'])\n"
   ]
  },
  {
   "cell_type": "markdown",
   "id": "be43dfa5",
   "metadata": {},
   "source": [
    "There are aes hardware instructions on AMD and Intel CPUs:\n",
    "- amdenc, amdenclast takes 2 xmm registers (128 bits). they perform the shuffle, shift and mix at the hardware level\n",
    "\n",
    "Also worth mentioning that there is a lot to precompute in AES which can drastically increase the speed of enc/dec"
   ]
  },
  {
   "cell_type": "markdown",
   "id": "2079d55b",
   "metadata": {},
   "source": [
    "### Block ciphers from PRG"
   ]
  },
  {
   "cell_type": "markdown",
   "id": "887a4c09",
   "metadata": {},
   "source": [
    "Can we build a PRF from a PRG?\n",
    "\n",
    "```raw\n",
    "G : K -> K^2\n",
    "F : K x {0, 1} -> K\n",
    "\n",
    "F(K, x)= G(K)[x]\n",
    "```"
   ]
  },
  {
   "cell_type": "code",
   "execution_count": 54,
   "id": "10fff6e4",
   "metadata": {},
   "outputs": [
    {
     "data": {
      "text/plain": [
       "410748765"
      ]
     },
     "execution_count": 54,
     "metadata": {},
     "output_type": "execute_result"
    }
   ],
   "source": [
    "def bbs_gen(p, q, seed):\n",
    "    M = p * q\n",
    "    x = seed\n",
    "    while True:\n",
    "        x = x ** 2 % M\n",
    "        yield x % 2\n",
    "\n",
    "def bbs_int(p, q, seed, N = 32):\n",
    "    gen = bbs_gen(p, q, seed)\n",
    "    while True:\n",
    "        out = 0\n",
    "        for i in range(N):\n",
    "            out |= next(gen) << i\n",
    "        yield out\n",
    "\n",
    "# just apply prg's in chain based on control bit of x\n",
    "def bbs_prf(p, q, key, x):\n",
    "    gen = bbs_int(p, q, key)\n",
    "    rs = [next(gen), next(gen)]\n",
    "    while True:\n",
    "        r = rs[x % 2]\n",
    "        x //= 2\n",
    "        if x <= 0:\n",
    "            return r\n",
    "        gen = bbs_int(p, q, r)\n",
    "        rs = [next(gen), next(gen)]\n",
    "\n",
    "bbs_prf(2147483647, 4294967291, 4282389123, 6)\n"
   ]
  },
  {
   "cell_type": "markdown",
   "id": "05b178cd",
   "metadata": {},
   "source": [
    "The main idea is that when you got a PRG that outputs double of its key size, then you can build PRF which outputs {0,1}^n for any n\n",
    "\n",
    "By constructing PRF from PRG we can plug this PRF into feistel network and got a PRP which is a block cipher:\\\n",
    "PRG -> PRP"
   ]
  },
  {
   "cell_type": "markdown",
   "id": "04d4f3be",
   "metadata": {},
   "source": [
    "```raw\n",
    "let X = {0, 1}\n",
    "Perms[X] = {id, not}\n",
    "E(k, x) = k xor x\n",
    "E(0, 0) = 0 xor 0 = 0\n",
    "E(0, 1) = 0 xor 1 = 1\n",
    "E(1, 0) = 1 xor 0 = 1\n",
    "E(1, 1) = 1 xor 1 = 0\n",
    "\n",
    "E(0, x) = id x\n",
    "E(1, x) = not x\n",
    "\n",
    "thus E(k, x) = k xor x is secure PRP if X = {0, 1} and K = {0, 1} and Perms[X] = {id, not}\n",
    "```"
   ]
  },
  {
   "cell_type": "markdown",
   "id": "1f0e1139",
   "metadata": {},
   "source": [
    "### Modes of operation (one time key)\n",
    "\n",
    "In previous section I mentioned that if you use the same k for AES or DES, then if m0 == m1 then c0 == c1 which break semantic security of a cipher.\n",
    "\n",
    "If you're bound to that one key, then you should use your PRP (AES or DES) in Determined counter mode, which converts PRP into a stream cipher:"
   ]
  },
  {
   "cell_type": "code",
   "execution_count": 55,
   "id": "7474df48",
   "metadata": {},
   "outputs": [
    {
     "name": "stdout",
     "output_type": "stream",
     "text": [
      "[8246139601914979692, 7795559470664611436, 36042172620890474]\n",
      "hello priver holla\u0000\u0000\u0000\u0000\u0000\u0000\n"
     ]
    }
   ],
   "source": [
    "from math import *\n",
    "\n",
    "def DES_DCM(k, m, encrypt = True):\n",
    "    qwords = []\n",
    "    if encrypt:\n",
    "        for i in range(ceil(len(m) / 8)):\n",
    "            qwords.append(pack2long(m[i * 8:]))\n",
    "    else:\n",
    "        qwords = m\n",
    "    \n",
    "    c = [0] * len(qwords)\n",
    "    for i, q in enumerate(qwords):\n",
    "        c[i] = DES(k, i) ^ q\n",
    "    if encrypt:\n",
    "        return c\n",
    "    else:\n",
    "        return ''.join([unpack2str(ci) for ci in c])\n",
    "\n",
    "k = 0x589dea13bc\n",
    "m = 'hello priver holla'\n",
    "c = DES_DCM(k, m)\n",
    "print(c)\n",
    "ce = DES_DCM(k, c, False)\n",
    "print(ce)"
   ]
  },
  {
   "cell_type": "markdown",
   "id": "34b45f73",
   "metadata": {},
   "source": [
    "\n",
    "When using PRP under DCM we just use PRF to generate key for OTP"
   ]
  },
  {
   "cell_type": "markdown",
   "id": "94c0d10a",
   "metadata": {},
   "source": [
    "### Modes of operation (many time key)\n",
    "\n",
    "There is a CPA attack (chosen plaintext attack). Its used when E provide the same c for the same m. In that case CPA can break semantic security:\n",
    "- adv sends m0 = m1 = m to challenger\n",
    "- challenger sends back c0 = c1 = c since E output same c for same m (this is the case when we use DES with the same key)\n",
    "- now adv sends m0, m2\n",
    "- challenger sends c0, c2\n",
    "- since adv knows the c0 = E(k, m0) he can clearly see which cipher text he reives\n",
    "\n",
    "To fix that EVERY encryption block should have some new value. One of the approaches to face CPA is randomized encryption.\n",
    "\n",
    "Randomized encryption:\n",
    "- get random r for each encryption block\n",
    "- output it with encrypted data"
   ]
  },
  {
   "cell_type": "code",
   "execution_count": 56,
   "id": "d12c6f04",
   "metadata": {},
   "outputs": [
    {
     "data": {
      "text/plain": [
       "[(35339880014975217, 16900939606086206130),\n",
       " (62813615862002403, 13029440436982173608),\n",
       " (50978495973431847, 8392002293671879811)]"
      ]
     },
     "execution_count": 56,
     "metadata": {},
     "output_type": "execute_result"
    }
   ],
   "source": [
    "import time\n",
    "\n",
    "def str2qwords(s):\n",
    "    qwords = []\n",
    "    for i in range(ceil(len(s) / 8)):\n",
    "        qwords.append(pack2long(s[i * 8:]))\n",
    "    return qwords\n",
    "\n",
    "def DES_randomized_encryption(k, m):\n",
    "    qwords = str2qwords(m) \n",
    "    c = [(0, 0)] * len(qwords)\n",
    "    gen = bbs_int(2147483647, 4294967291, int(time.time()), N = 56)\n",
    "    for i, q in enumerate(qwords):\n",
    "        r = next(gen)\n",
    "        c[i] = (r, DES(k, r) ^ q)\n",
    "    return c\n",
    "\n",
    "DES_randomized_encryption(k, m)\n"
   ]
  },
  {
   "cell_type": "markdown",
   "id": "59b0b669",
   "metadata": {},
   "source": [
    "In that case CPA is impossible because even if adv sends m0 = m1 = m, the challenger will use unique r for each encryption and c0 != c1. And since r must be truly random, then such PRF is semantically secure even under CPA.\n",
    "\n",
    "There is also **nonce-based encryption**. Its very simillar to determined counter mode, butt counter is now stored between multiple messages:"
   ]
  },
  {
   "cell_type": "code",
   "execution_count": 57,
   "id": "3b7cd168",
   "metadata": {},
   "outputs": [
    {
     "name": "stdout",
     "output_type": "stream",
     "text": [
      "[8246139601914979692, 7795559470664611436, 36042172620890474]\n"
     ]
    }
   ],
   "source": [
    "def DES_nonce(k, m):\n",
    "    qwords = str2qwords(m)\n",
    "    \n",
    "    c = [0] * len(qwords)\n",
    "    for i, q in enumerate(qwords):\n",
    "        c[i] = DES(k, DES_nonce.nonce) ^ q\n",
    "        DES_nonce.nonce += 1\n",
    "    return c\n",
    "\n",
    "DES_nonce.nonce = 0\n",
    "\n",
    "c = DES_nonce(k, m)\n",
    "print(c)"
   ]
  },
  {
   "cell_type": "code",
   "execution_count": 58,
   "id": "8b50606c",
   "metadata": {},
   "outputs": [
    {
     "data": {
      "text/plain": [
       "[8049951530262750575, 8367828043602027634, 4552119204516749673]"
      ]
     },
     "execution_count": 58,
     "metadata": {},
     "output_type": "execute_result"
    }
   ],
   "source": [
    "DES_nonce(k, 'hello words is that all?')"
   ]
  },
  {
   "cell_type": "markdown",
   "id": "64eee5a6",
   "metadata": {},
   "source": [
    "### Cipher Block Chaining (CBC)\n",
    "\n",
    "It's also a many time key mode of operation that's used for protection from CPA:"
   ]
  },
  {
   "cell_type": "code",
   "execution_count": 65,
   "id": "f4f106db",
   "metadata": {},
   "outputs": [
    {
     "name": "stdout",
     "output_type": "stream",
     "text": [
      "[5072356290472880772, 6925787750633788932, 8207471092584713694, 12410530623676972098, 3127553852583742413]\n",
      "privet h\u0000\u0000\u0000\u0000\u0000\u0000\u0000\u0000\u0000\u0000\u0000\u0000\u0000\u0000\u0000\u0000\u0000\u0000\u0000\u0000\u0000\u0000\u0000\u0000\u0000\u0000\u0000\u0000\u0000\u0000\u0000\u0000\u0000\u0000\u0000\u0000\u0000\u0000\u0000\u0000\u0000\u0000\u0000\u0000\u0000\u0000\u0000\u0000\u0000\u0000\u0000\u0000\u0000\u0000\u0000\u0000 sal\u0000\u0000\u0000\u0000\u0000\u0000\u0000\u0000\u0000\u0000\u0000\u0000\u0000\u0000\u0000\u0000\u0000\u0000\u0000\u0000\u0000\u0000\u0000\u0000\u0000\u0000\u0000\u0000\u0000\u0000\u0000\u0000\u0000\u0000\u0000\u0000\u0000\u0000\u0000\u0000\u0000\u0000\u0000\u0000\u0000\u0000\u0000\u0000\u0000\u0000\u0000\u0000\u0000\u0000\u0000\u0000ß\u0000\u0000\u0000\u0000\u0000\u0000\u0000\u0000\u0000\u0000\u0000\u0000\u0000\u0000\u0000\u0000\u0000\u0000\u0000\u0000\u0000\u0000\u0000\u0000\u0000\u0000\u0000\u0000\u0000\u0000\u0000\u0000\u0000\u0000\u0000\u0000\u0000\u0000\u0000\u0000\u0000\u0000\u0000\u0000\u0000\u0000\u0000\u0000\u0000\u0000\u0000\u0000\u0000\u0000\u0000\u0000o bonjou\u0000\u0000\u0000\u0000\u0000\u0000\u0000\u0000\u0000\u0000\u0000\u0000\u0000\u0000\u0000\u0000\u0000\u0000\u0000\u0000\u0000\u0000\u0000\u0000\u0000\u0000\u0000\u0000\u0000\u0000\u0000\u0000\u0000\u0000\u0000\u0000\u0000\u0000\u0000\u0000\u0000\u0000\u0000\u0000\u0000\u0000\u0000\u0000\u0000\u0000\u0000\u0000\u0000\u0000\u0000\u0000r\u0000\u0000\u0000\u0000\u0000\u0000\u0000\u0000\u0000\u0000\u0000\u0000\u0000\u0000\u0000\u0000\u0000\u0000\u0000\u0000\u0000\u0000\u0000\u0000\u0000\u0000\u0000\u0000\u0000\u0000\u0000\u0000\u0000\u0000\u0000\u0000\u0000\u0000\u0000\u0000\u0000\u0000\u0000\u0000\u0000\u0000\u0000\u0000\u0000\u0000\u0000\u0000\u0000\u0000\u0000\u0000\u0000\u0000\u0000\u0000\u0000\u0000\u0000\n"
     ]
    },
    {
     "data": {
      "text/plain": [
       "'privet h\\x90\\x93\\x93\\x9e sal\\x8a\\x8b\\x9aß\\x97\\x9a\\x93\\x93o bonjour'"
      ]
     },
     "execution_count": 65,
     "metadata": {},
     "output_type": "execute_result"
    }
   ],
   "source": [
    "def CBC_E(E, k, m):\n",
    "    init_vector = next(bbs_int(2147483647, 4294967291, int(time.time() * 100), N=64))\n",
    "    qwords = str2qwords(m)\n",
    "    c = [0] * len(qwords)\n",
    "    x = init_vector\n",
    "    for i, q, in enumerate(qwords):\n",
    "        x = E(k, q ^ x)\n",
    "        c[i] = x\n",
    "    return (init_vector, c)\n",
    "\n",
    "def CBC_D(D, k, ivc):\n",
    "    iv, cs = ivc\n",
    "    x = iv\n",
    "    ms = [0] * len(cs)\n",
    "    for i, c in enumerate(cs):\n",
    "        ms[i] = x ^ D(k, c)\n",
    "        x = c\n",
    "    return ''.join([unpack2str(m, N=64) for m in ms])\n",
    "\n",
    "iv, c = CBC_E(DES, k, 'privet holla salute hello bonjour')\n",
    "print(c)\n",
    "c[1] = (~c[1]) & 0xFFFFFFFFFFFFFFFF\n",
    "ec = CBC_D(lambda k, x: DES(k, x, encrypt=False), k, (iv, c))\n",
    "print(ec)\n",
    "'privet h salßo bonjour'"
   ]
  },
  {
   "cell_type": "markdown",
   "id": "c61926cc",
   "metadata": {},
   "source": [
    "CBC theorem states that:\n",
    "```raw\n",
    "CBC Advantage <= 2 * CBC_PRP Advantage + CBC_error_term\n",
    "\n",
    "CVC_error_term = 2 * (# of messages encrypted with k)^2 * (length of max message)^2 / |input_space|\n",
    "               = 2 * q^2 * L^2 / |X|\n",
    "```\n",
    "\n",
    "Since we use semantically secure PRP, then CVC_PRP Advantage is very very small.\n",
    "\n",
    "For block ciphers the L is length of the block (for DES its 64 bits).\n",
    "\n",
    "The input_space for DES is {0,1}^64 so length of it = 2^64\n",
    "\n",
    "So if we want CBC Advantage <= 1/2^32 (which is very small number),\\\n",
    "then CBC_error_term < 1/2^32\n",
    "```raw\n",
    "2 * q^2 * 8^2 / 2^64 = \n",
    "q^2 * 2^7 / 2^64 = \n",
    "q^2 / 2^57 < 1 / 2^32\n",
    "q^2 < 2^25\n",
    "q < 2^12.5 = 2^12\n",
    "```\n",
    "\n",
    "Which means that after 2^12 encyrpted cipher blocks, the CBC_DES error term becomes large enough thus breaks semantic security\n",
    "\n",
    "But if attacker can predict IV for the next encryption, then CBC is no longer semantically secure!"
   ]
  },
  {
   "cell_type": "markdown",
   "id": "6f0b7b86",
   "metadata": {},
   "source": [
    "### PKCE Padding scheme\n",
    "\n",
    "If message length isn't divisible by block length, then message needs padding:"
   ]
  },
  {
   "cell_type": "code",
   "execution_count": 60,
   "id": "0ee8f99d",
   "metadata": {},
   "outputs": [
    {
     "name": "stdout",
     "output_type": "stream",
     "text": [
      "5\n"
     ]
    },
    {
     "data": {
      "text/plain": [
       "[[104, 101, 108, 108, 111, 32, 119, 111], [114, 108, 100, 5, 5, 5, 5, 5]]"
      ]
     },
     "execution_count": 60,
     "metadata": {},
     "output_type": "execute_result"
    }
   ],
   "source": [
    "def PKCE_pad(m, N = 64):\n",
    "    assert(N % 8 == 0)\n",
    "    bytes_in_block = N // 8\n",
    "    qwords = []\n",
    "    bytes_count = len(m)\n",
    "    full_blocks = bytes_count // bytes_in_block\n",
    "    pad = bytes_in_block\n",
    "    full_blocks += 1\n",
    "    if len(m) % bytes_in_block != 0:\n",
    "        pad = full_blocks * bytes_in_block - bytes_count\n",
    "    print(pad)\n",
    "\n",
    "    for i in range(full_blocks):\n",
    "        if i == full_blocks - 1:\n",
    "            qwords.append(pack2long([c for c in m[i*8:]] + [chr(pad)] * pad, N=N))\n",
    "        else:\n",
    "            qwords.append(pack2long(m[i * 8:], N=N))\n",
    "    return qwords\n",
    "\n",
    "[[ord(c) for c in unpack2str(m)] for m in PKCE_pad('hello world')]"
   ]
  },
  {
   "cell_type": "markdown",
   "id": "1779ba43",
   "metadata": {},
   "source": [
    "se we pad the message with the bytes, which equals to the amount of padded bytes!\n",
    "\n",
    "if message doesn't need padding since its divisible by block size, then we add full block of padding"
   ]
  },
  {
   "cell_type": "markdown",
   "id": "e62c951d",
   "metadata": {},
   "source": [
    "### CTR\n",
    "\n",
    "CTR is something between CBC and DCM:\n",
    "- chose absolute random IV\n",
    "- use this IV as the initial value of a counter for DCM\n",
    "\n",
    "Also CBC is forces to use PRP, because if it uses PRF then you're unable to decrypt (only PRP is reversible),\\\n",
    "while CTR can use PRF because its just OTP with key computed using IV counter and PRF\n",
    "\n",
    "Also CBC isn't parallelizable, while CTR being a OTP can be parallelized\n",
    "\n",
    "Also CTR doesn't require message padding because its basically OTP, while CBC need a full block to encrypt it which requires padding for smaller messages"
   ]
  }
 ],
 "metadata": {
  "kernelspec": {
   "display_name": "Python 3",
   "language": "python",
   "name": "python3"
  },
  "language_info": {
   "codemirror_mode": {
    "name": "ipython",
    "version": 3
   },
   "file_extension": ".py",
   "mimetype": "text/x-python",
   "name": "python",
   "nbconvert_exporter": "python",
   "pygments_lexer": "ipython3",
   "version": "3.13.3"
  }
 },
 "nbformat": 4,
 "nbformat_minor": 5
}
