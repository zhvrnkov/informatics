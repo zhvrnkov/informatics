{
 "cells": [
  {
   "cell_type": "markdown",
   "id": "6c015a74",
   "metadata": {},
   "source": [
    "# Message integrity\n",
    "\n",
    "### Message Authentication Codes\n",
    "\n",
    "The way to go is MAC (Message Authentication Code).\n",
    "\n",
    "```raw\n",
    "the MAC is 2 algorithms: S and V\n",
    "S(key, message) => tag\n",
    "V(key, message, tag) => true | false\n",
    "V(k, m, S(k, m)) = true\n",
    "\n",
    "the way it works is the following:\n",
    "- Alice sends message m to Bob\n",
    "- but Alice wants to make sure that Bob got the exact message that she send\n",
    "- for this she append tag to the message created via S\n",
    "- Bob receive the message and the tag and verify it via V\n",
    "- they both share same secret key k\n",
    "```\n",
    "\n",
    "##### The main attack on MAC\n",
    "- attacker does have chosen message attack, which means for set of messages he is given corresponding tokens t_i <- S(k, m_i)\n",
    "- attacker's goal is to produce new valid message/token pair (m, t) so that t = S(k, m) and this pair isn't from chosen message attack\n",
    "\n",
    "So MAC is breaked if attacker can provide valid pair of (m, t) where m is attacker's message"
   ]
  },
  {
   "cell_type": "markdown",
   "id": "b1ef5a87",
   "metadata": {},
   "source": [
    "### PRF 2 MAC\n",
    "PRF can be used as S for MAC:\n",
    "```raw\n",
    "S(k, m) = PRF(k, m)\n",
    "V(k, m, t) = PRF(k, m) == t\n",
    "```\n",
    "\n",
    "And for a PRF the security of a MAC holds, but only if output space of this PRF is large because tag length must be big (64, 96, 128 and etc bytes).\\\n",
    "The security of a tag is equal to 1 / |tag|. If tag length = 32, then probability of guessing the tag is 1 / 32 which is very large\\\n",
    "For that PRF output space must be large\n"
   ]
  },
  {
   "cell_type": "markdown",
   "id": "3031be13",
   "metadata": {
    "vscode": {
     "languageId": "markdown"
    }
   },
   "source": [
    "AES can be used for MAC:\\\n",
    "- AES takes 16 bytes m\n",
    "- produce 16 byte t\n",
    "- by using 128 bit key\n",
    "\n",
    "But this is small MAC (it takes m as 16 bytes).\n",
    "\n",
    "##### How to get BIG MAC from SMALL MAC?\n",
    "\n",
    "There are 2 main solutions to this problem:\n",
    "- CBC-MAC (banking)\n",
    "- HMAC (Internet, SSL, SSH)"
   ]
  },
  {
   "cell_type": "code",
   "execution_count": 3,
   "id": "e52babb5",
   "metadata": {},
   "outputs": [],
   "source": [
    "def CBC_MAC(F, k0, k1, ms):\n",
    "    x = 0\n",
    "    for m in ms:\n",
    "        x = F(k0, m ^ x)\n",
    "    return F(k1, x)\n"
   ]
  },
  {
   "cell_type": "markdown",
   "id": "b7d9eee7",
   "metadata": {},
   "source": [
    "As show above, CBC_MAC is just a CBC mode of operation but with extra F(k1) at the end.\n",
    "\n",
    "There is also NMAC (Nested MAC):"
   ]
  },
  {
   "cell_type": "code",
   "execution_count": 4,
   "id": "ce617931",
   "metadata": {},
   "outputs": [],
   "source": [
    "def NMAC_PAD(t):\n",
    "    return t\n",
    "# F : K -> X -> K (output is in KEY space)\n",
    "def NMAC(F, k0, k1, ms):\n",
    "    k = k0\n",
    "    for m in ms:\n",
    "        k = F(k, m)\n",
    "    # t is from K and in most use cases |X| > |K| \n",
    "    # so we need padding from K to X\n",
    "    t = NMAC_PAD(k)\n",
    "    return F(k1, t)\n"
   ]
  },
  {
   "cell_type": "markdown",
   "id": "dece5184",
   "metadata": {},
   "source": [
    "There is also a parallelizable MAC -- PMAC:"
   ]
  },
  {
   "cell_type": "code",
   "execution_count": 5,
   "id": "ba9827e8",
   "metadata": {},
   "outputs": [],
   "source": [
    "def PMAC(F, P, k, k0, ms):\n",
    "    # can be done in parallel\n",
    "    xs = [P(k, i) ^ m if i == (len(ms) - 1) else F(k0, P(k, i) ^ m) for i, m in enumerate(ms)]\n",
    "    xor_acc = 0\n",
    "    for x in xs:\n",
    "        xor_acc ^= x\n",
    "    return F(k0, xor_acc)"
   ]
  },
  {
   "cell_type": "markdown",
   "id": "83687ea6",
   "metadata": {},
   "source": [
    "PMAC is also incremetal, which means if you just change ms[i] you don't need to recompute whole PMAC for ms, you can just:\n",
    "```raw\n",
    "inv_F(k0, tag) ^ F(k0, ms[i].old) ^ F(k0, ms[i].new)\n",
    "```\n",
    "\n",
    "There is also One Time MAC (analog for One Time Pad) where:\n",
    "- key should be used only once\n",
    "- it has perfect secrecy in contexts of MACs\n",
    "- its easy to compute (just uses polynomial)"
   ]
  },
  {
   "cell_type": "code",
   "execution_count": 33,
   "id": "cfdef90a",
   "metadata": {},
   "outputs": [
    {
     "data": {
      "text/plain": [
       "898815276966951074"
      ]
     },
     "execution_count": 33,
     "metadata": {},
     "output_type": "execute_result"
    }
   ],
   "source": [
    "from math import *\n",
    "import random\n",
    "\n",
    "def pack2long(s, N=64):\n",
    "    assert(N % 8 == 0)\n",
    "    bytes = [ord(c) for c in s[:N//8]]\n",
    "    l = 0\n",
    "    for i, b in enumerate(bytes):\n",
    "        l = l | (b << i * 8)\n",
    "    return l\n",
    "\n",
    "def unpack2str(l, N = 8):\n",
    "    s = []\n",
    "    for i in range(N):\n",
    "        s.append(chr((l >> i * 8) & 0xFF))\n",
    "    return ''.join(s)\n",
    "\n",
    "# len(bin(q)) ~ len(bin(m)) OR\n",
    "# q should be near the block size (m) AND \n",
    "# also q is prime\n",
    "def ONE_TIME_MAC_S(key, m, q):\n",
    "    k, r = key\n",
    "    ms = [pack2long(m[ib * 8:(ib + 1) * 8]) for ib in range(ceil(len(m) / 8))]\n",
    "    mac = r\n",
    "    power = k\n",
    "    for m in ms:\n",
    "        mac = (mac + (m * power) % q) % q\n",
    "        power = (power * k) % q\n",
    "    return mac\n",
    "\n",
    "\n",
    "q = 2 ** 64 - 59 # our block size is 64\n",
    "key = (random.randint(0, q - 1), random.randint(0, q - 1))\n",
    "ONE_TIME_MAC_S(key, 'hello world from Russia, Omsk cit', q)"
   ]
  },
  {
   "cell_type": "markdown",
   "id": "3e1ffff9",
   "metadata": {},
   "source": [
    "### Hash Functions\n",
    "\n",
    "When you think about attacks on MACs, then there is one major attack with CPT:\n",
    "- attacker can find many of unique (m, t) pairs\n",
    "- but even so, if MAC is secure, then attacker cannot produce new unique pair (m, t)\n",
    "- assume we have 2 almost identical messages m0 and m1\n",
    "- attacker know the pair (m0, t0) and want to produce a valid (m1, t1)\n",
    "- MAC cannot output \"near\" tags for \"near\" messages! So |t0 - t1| should be big\n",
    "\n",
    "Q: is Hash Function basically a PRF? Not a PRP!\n",
    "\n",
    "##### Hash Function definition\n",
    "```raw\n",
    "H : M -> T where |M| >> |T|\n",
    "\n",
    "Hash collision is (m0, m1) from M such that:\n",
    "H(m0) = H(m1) and m0 != m1\n",
    "\n",
    "H is collision resistant if probability of finding a collision for known m is very low\n",
    "\n",
    "But one of the major factors for collision resistant is the size of the output space, if output space is {0,1}^8 then finding a collision for known m is >= 1/256 which is big by itself\n",
    "\n",
    "For good H there is no known \"eff\" algorithm that can find a collision for known m\n",
    "Or this algorithm not better then just brute force\n",
    "\n",
    "But the overall probability of collision can't be very low because |M| >> |T|\n",
    "```\n",
    "\n",
    "##### MACs from Hash funcitons\n",
    "We still got a problem of getting big MAC from small MAC. One of the solution is PRF based MACs. But using Hash functions small MAC can be converted into big MAC:\n",
    "```raw\n",
    "SM_I, SM_V = SMALL MAC (for example AES128)\n",
    "SM_I :: K -> M -> T\n",
    "\n",
    "H :: M_big -> M\n",
    "\n",
    "BM_I :: K -> M_big -> T\n",
    "BM_I key, mbig = SM_I(key, H(mbig))\n",
    "```\n",
    "\n",
    "If H NOT collision resistant, then BM_I is NOT a secure MAC, because attacker:\n",
    "- can get t for known m\n",
    "- find a collision for this m = m1. H(m) = H(m1) => BM_I(m) = BM_I(m1)\n",
    "- so (m1, t) is valid tag for m1 and a valid pair!\n",
    "\n",
    "##### Attack on Hash Functions\n",
    "The main attack on Hash functions is using birthday paradox (take a look at bday-paradox.py).\n",
    "\n",
    "If Hash function output space if n bits, then after 1.2 * sqrt(2^n) random hashes there is more then 1/2 probability of a collision.\n",
    "\n",
    "### Constructing Hash Functions\n",
    "The main costruction is called Merkle-Damgård Construction and its the way to get a big HASH from small HASH function, or:\n",
    "```raw\n",
    "h :: T -> Xs -> T\n",
    "H :: Xb -> T\n",
    "H = MDC(h)\n",
    "```\n",
    "\n",
    "This construction is guarantee that if h is collision resistant, then whole H is collision resistant. In other words, if H got a collision, then:\n",
    "- either h got a collision\n",
    "- or identical messages were used\n",
    "\n",
    "There is a big proof of that which requires proof by contradiction and etc, but I'll skip it for now\n",
    "\n",
    "##### How to construct h (compression function)?\n",
    "The compression functions are mainly constructed from block ciphers using some new constructions, for example:\n",
    "1. h(H, m) = E(m, H) ^ H\n",
    "2. h(H, m) = E(m, H) ^ H ^ m\n",
    "3. h(H, m) = E(H ^ m, H) ^ m\n",
    "and etc. Some naive constructions such as `h(H,m) + E(m, H)` are not collision resistant"
   ]
  },
  {
   "cell_type": "markdown",
   "id": "e637a7a2",
   "metadata": {},
   "source": [
    "##### HMAC\n",
    "HMAC is a way to construct a MAC from Hash function"
   ]
  }
 ],
 "metadata": {
  "kernelspec": {
   "display_name": "Python 3",
   "language": "python",
   "name": "python3"
  },
  "language_info": {
   "codemirror_mode": {
    "name": "ipython",
    "version": 3
   },
   "file_extension": ".py",
   "mimetype": "text/x-python",
   "name": "python",
   "nbconvert_exporter": "python",
   "pygments_lexer": "ipython3",
   "version": "3.13.3"
  }
 },
 "nbformat": 4,
 "nbformat_minor": 5
}
