{
 "cells": [
  {
   "cell_type": "markdown",
   "metadata": {},
   "source": [
    "# Euclidian Algorithm (GCD)"
   ]
  },
  {
   "cell_type": "code",
   "execution_count": 2,
   "metadata": {},
   "outputs": [],
   "source": [
    "from math import gcd\n",
    "def naive_gcd(x, y):\n",
    "    divisor = 1\n",
    "    for d in range(2, min(x, y) + 1):\n",
    "        if (x % d == 0 and y % d == 0):\n",
    "            divisor = d\n",
    "    return divisor"
   ]
  },
  {
   "cell_type": "code",
   "execution_count": 3,
   "metadata": {},
   "outputs": [
    {
     "data": {
      "text/plain": [
       "16"
      ]
     },
     "execution_count": 3,
     "metadata": {},
     "output_type": "execute_result"
    }
   ],
   "source": [
    "naive_gcd(16, 32)"
   ]
  },
  {
   "cell_type": "markdown",
   "metadata": {
    "vscode": {
     "languageId": "raw"
    }
   },
   "source": [
    "### gcd via difference\n",
    "``` raw\n",
    "there is a d such that:\n",
    "x = i * d and y = j * d\n",
    "assume that x > y\n",
    "then delta = x - y = i * d - j * d = (i - j) * d\n",
    "\n",
    "x = i * d\n",
    "y = j * d\n",
    "delta = (i - j) * d\n",
    "```\n"
   ]
  },
  {
   "cell_type": "code",
   "execution_count": 4,
   "metadata": {},
   "outputs": [],
   "source": [
    "# x = id; y = jd; ()\n",
    "def dgcd(x, y):\n",
    "    while x != y:\n",
    "        if x > y:\n",
    "            x = x - y\n",
    "        else:\n",
    "            y = y - x\n",
    "    return x\n"
   ]
  },
  {
   "cell_type": "markdown",
   "metadata": {},
   "source": [
    "### GCD via modulo (faster)\n",
    "``` raw\n",
    "x % y == id % jd == id - id // jd * jd = id - (i // j) * d = (i - i//j) * d < jd\n",
    "jd % (i - i//j)*d == jd % kd where k = (i - i//j) since its an integer\n",
    "\n",
    "(n * d) % d = 0\n",
    "```\n",
    "\n",
    "after khan academy:\n",
    "``` raw\n",
    "gcd(a, b) = d\n",
    "=> a = i * d\n",
    "=> b = j * d\n",
    "\n",
    "a = b * q + r where 0 <= r < b\n",
    "a % b = (b * q) + r % b\n",
    "a % b = a - b * floor(a / b) = a - b * q = r\n",
    "\n",
    "a % b = id % jd = id - floor(i / j) * d = (i - floor(i / j)) * d\n",
    "r = (i - floor(i / j)) * d => gcd(a, b) = gcd(b, r)\n",
    "```"
   ]
  },
  {
   "cell_type": "code",
   "execution_count": 5,
   "metadata": {},
   "outputs": [
    {
     "data": {
      "text/plain": [
       "1"
      ]
     },
     "execution_count": 5,
     "metadata": {},
     "output_type": "execute_result"
    }
   ],
   "source": [
    "# id % jd = (i - i//j) * d < jd\n",
    "def mgcd(x, y):\n",
    "    while y != 0:\n",
    "        t = y\n",
    "        y = x % y\n",
    "        x = t\n",
    "    return x\n",
    "\n",
    "mgcd(12398123991238937849823892348239498237489202, 123781291729123917239)"
   ]
  },
  {
   "cell_type": "code",
   "execution_count": 7,
   "metadata": {},
   "outputs": [
    {
     "data": {
      "text/plain": [
       "1"
      ]
     },
     "execution_count": 7,
     "metadata": {},
     "output_type": "execute_result"
    }
   ],
   "source": [
    "mgcd(13, 7)"
   ]
  },
  {
   "cell_type": "markdown",
   "metadata": {},
   "source": [
    "# Modular inverse\n",
    "\n",
    "- every number (except 0) has an inverse. A * inv(A) = 1. inv(A) = 1 / A\n",
    "- but what is modular inverse?\n",
    "- in modular arith there is no division\n",
    "- but modular inverse exists: (A * inv(A)) % C = 1\n",
    "- the modular inverse exists only if gcd(A, C) = 1\n",
    "\n",
    "### GCD and divisibility\n",
    "if gcd(a, b) != 1 then a is divisible by b?\\\n",
    "gcd(a, b) = G; a = i * G; b = j * G; a / b = i / j\\\n",
    "the number a is divisble by b only if a = i * b <=> gcd(a, b) = b\n",
    "\n",
    "### GCD and modulo\n",
    "if gcd(a, b) == (a or b) then a % b == 0\n",
    "gcd(a, b) <= max(a, b)\n",
    "\n",
    "```raw\n",
    "(a * b) % c = 1\n",
    "D = (a * b); D % c = 1; D = i * c + (D % c); D - (D % c) = i * c; gcd(i * c, c) = c;\n",
    "in other words for any number A:\n",
    "gcd(A - (A % C), C) = C\n",
    "```\n",
    "\n",
    "### Back to modulo inverse\n",
    "Why module inverse mod C exists only for coprimes of C?\\\n",
    "```raw\n",
    "let B = modulo inverse of A\\\n",
    "A * B % C = 1\n",
    "A * B - k * C = 1 (for some integer k)\n",
    "```\n",
    "if A and C are not coprime: G = gcd(A, C) != 1\\\n",
    "then:\n",
    "```raw\n",
    "(i * G) * B - k * (j * G) = 1\n",
    "(i * G) * B = 1 + k * (j * G); is it possible for integers i, B, k, j where G > 1?\n",
    "-------------------------\n",
    "The answer is no but there is a simpler proof:\n",
    "A * B - k * C = 1\n",
    "A * B = 1 + k * C\n",
    "since G = gcd(A, C)\n",
    "\n",
    "then d | (A * B) and d | (1 + k * C) (| means divides)\n",
    "\n",
    "(A * B) % d = 0\n",
    "(1 + k * C) % d = 0 = ((1 % d) + (k * C % d) % d) % d = 0\n",
    "\n",
    "but k * C % d = 0 since d | C\n",
    "and we have 1 % d = 0 but d > 1 hence 1 % d = 0 is impossible (1 % d = 1)\n",
    "```\n",
    "\n",
    "### Bezout identity\n"
   ]
  },
  {
   "cell_type": "markdown",
   "metadata": {},
   "source": []
  },
  {
   "cell_type": "markdown",
   "metadata": {},
   "source": [
    "# Extended Euclidian Algorithm"
   ]
  },
  {
   "cell_type": "code",
   "execution_count": null,
   "metadata": {},
   "outputs": [
    {
     "name": "stdout",
     "output_type": "stream",
     "text": [
      "1023 910\n",
      "910 113\n",
      "113 6\n",
      "6 5\n",
      "5 1\n",
      "1 0\n",
      "1 -2 21\n",
      "17064\n"
     ]
    }
   ],
   "source": [
    "# gcd(x, y) = G\n",
    "# x = G * a; y = G * b;\n",
    "# need to find this G\n",
    "# (G * a) % (G * b) = (a - a//b) * G <= G * a\n",
    "#\n",
    "# a % b = c\n",
    "# a - (a//b)*b = c\n",
    "# a = c + (a//b) * b\n",
    "# \n",
    "# s * a + t * b = c; s = 1; t = a//b\n",
    "def ext_gcd(x, y):\n",
    "    swap = True\n",
    "    s0 = 1\n",
    "    t0 = 0\n",
    "    s1 = 0\n",
    "    t1 = 1\n",
    "    # (910 - (1023 - (1023 - 1023 % 910)))\n",
    "    # 27 = (1, 0)\n",
    "    # 21 = (0, 3)\n",
    "    # 7 =  (0, 1)\n",
    "    print(y, x)\n",
    "    while y != 0:\n",
    "        if swap:\n",
    "            s0 -= 0\n",
    "            t0 -= (x // y)\n",
    "            # print(\"s0\", s0, t0)\n",
    "        else:\n",
    "            s1 -= s0\n",
    "            t1 -= t0\n",
    "            # print(\"t1\", s1, t1)\n",
    "        # 27 - (27 % 21) = 27 - 6 = 21 = x - (27 // 6) * 6\n",
    "        tmp = y\n",
    "        y = x % y # x - (x // y) * y\n",
    "        x = tmp\n",
    "        print(y, x)\n",
    "        swap = not swap\n",
    "\n",
    "    if swap:\n",
    "        return x, s0, t0\n",
    "    else:\n",
    "        return x, s1, t1\n",
    "\n",
    "# i * a + j * b = gcd(a, b)\n",
    "# if gcd(a, b) = a then i = 1 and j = 0; another way if gcd = b\n",
    "# --------------------------------\n",
    "# i * a + j * b = gcd(a, b)\n",
    "# gcd(a, b) = g\n",
    "# i * (a' * g) + j * (b' * g) = g\n",
    "# g * (i * a' + j * b') = g\n",
    "# find such i and j so equation solves\n",
    "# --------------------------------\n",
    "# MAIN IDEA OF EXT GCD\n",
    "# r = r0 - r1 - r2 - ... rx\n",
    "# for each rn we can find rn = sa + tb\n",
    "# r = (sa + tb)_0 - (sa + tb)_1 - ... - (sa + tb)_x\n",
    "# then we can flatten merge all s and t (because we can extract (a+b) part from every sum element)\n",
    "# and got end result for s and t\n",
    "\n",
    "a = 1023\n",
    "b = 910\n",
    "g, s, t = ext_gcd(a, b) \n",
    "print(g, s, t)\n",
    "# a_ = a // g\n",
    "# b_ = b // g\n",
    "# print(a_, b_)\n",
    "# # now find i * a + b * j = 1\n",
    "print(s * a + t * b)\n",
    "\n",
    "# find i and j so ai + bj = 1\n",
    "def find_ij(a, b):\n",
    "    pass"
   ]
  },
  {
   "cell_type": "code",
   "execution_count": 138,
   "metadata": {},
   "outputs": [
    {
     "name": "stdout",
     "output_type": "stream",
     "text": [
      "(1, -153, 172)\n",
      "(1, -207385, 1496196052)\n"
     ]
    }
   ],
   "source": [
    "def yn(x, y): return x - (x // y) * y\n",
    "def stn(st0, st1, x0, y0):\n",
    "    s0,t0=st0\n",
    "    s1,t1=st1\n",
    "    x0_ = s0 * x0 + t0 * y0\n",
    "    x1_ = s1 * x0 + t1 * y0\n",
    "\n",
    "    r = x0_ // x1_\n",
    "    return (s0 - r * s1, t0 - r * t1)\n",
    "\n",
    "def ext_gcd2(x, y):\n",
    "    x0, y0 = x, y\n",
    "    st0 = (1,0)\n",
    "    st1 = (0,1)\n",
    "    while y != 0:\n",
    "        tmp = st1\n",
    "        st1 = stn(st0, st1, x0, y0)\n",
    "        st0 = tmp\n",
    "        tmp = y\n",
    "        y = x % y\n",
    "        x = tmp\n",
    "    return x, st0[0], st0[1]\n",
    "\n",
    "print(ext_gcd2(1023, 910))\n",
    "print(ext_gcd2(23423784823, 3246728))\n",
    "\n",
    "# STEP BY STEP\n",
    "# x0=1023\n",
    "# y0=910\n",
    "# s0,t0 = (1,0)\n",
    "# print(\"0: \", x0, y0) # x0 = (1, 0) = x0\n",
    "# \n",
    "# y1=yn(x0,y0)\n",
    "# x1=y0\n",
    "# s1,t1 = (0,1)\n",
    "# print(\"1: \", x1, y1) # x1 = (0, 1) = y0\n",
    "# \n",
    "# y2=yn(x1,y1)\n",
    "# x2=y1\n",
    "# s2,t2 = stn((s0,t0), (s1,t1))\n",
    "# print(\"2: \", x2, y2, s2, t2) # x2 = 113 = x0 % x1 = x0 - 1023//910 * 910 = x0 - (0, 1023//910) = (1,0) - (0,1) = (1, -1)\n",
    "# \n",
    "# y3=yn(x2,y2)\n",
    "# x3=y2\n",
    "# s3,t3 = stn((s1,t1), (s2,t2))\n",
    "# print(\"3: \", x3, y3, s3, t3) # x3 = 6 = x1 % x2 = x1 - 910//113 * 113 = x1 - 910//113 * x2\n",
    "# \n",
    "# y4=yn(x3,y3)\n",
    "# x4=y3\n",
    "# s4,t4 = stn((s2,t2), (s3,t3))\n",
    "# print(\"4: \", x4, y4, s4, t4) # x4 = 5 = x2 % x3 = x2 - (x2//x3) * x3 = \n",
    "# \n",
    "# y5=yn(x4,y4)\n",
    "# x5=y4\n",
    "# s5,t5 = stn((s3,t3), (s4,t4))\n",
    "# print(\"5: \", x5, y5, s5, t5)\n"
   ]
  },
  {
   "cell_type": "code",
   "execution_count": 141,
   "metadata": {},
   "outputs": [
    {
     "name": "stdout",
     "output_type": "stream",
     "text": [
      "(1, 6, -630587327)\n",
      "1\n"
     ]
    }
   ],
   "source": [
    "a = 3258034523\n",
    "c = 31\n",
    "print(ext_gcd2(a, c))\n",
    "print((a * ext_gcd2(a, c)[1]) % c)"
   ]
  },
  {
   "cell_type": "markdown",
   "metadata": {},
   "source": [
    "# Modular Multiplicative Inverse"
   ]
  },
  {
   "cell_type": "code",
   "execution_count": 144,
   "metadata": {},
   "outputs": [
    {
     "name": "stdout",
     "output_type": "stream",
     "text": [
      "3\n"
     ]
    }
   ],
   "source": [
    "def mod_inverse(a, c):\n",
    "    gcd, s, t = ext_gcd2(a, c)\n",
    "    return s\n",
    "\n",
    "print(mod_inverse(1023, 13))\n",
    "    "
   ]
  },
  {
   "cell_type": "markdown",
   "metadata": {},
   "source": [
    "# Primitive root"
   ]
  },
  {
   "cell_type": "markdown",
   "metadata": {},
   "source": []
  }
 ],
 "metadata": {
  "kernelspec": {
   "display_name": "Python 3",
   "language": "python",
   "name": "python3"
  },
  "language_info": {
   "codemirror_mode": {
    "name": "ipython",
    "version": 3
   },
   "file_extension": ".py",
   "mimetype": "text/x-python",
   "name": "python",
   "nbconvert_exporter": "python",
   "pygments_lexer": "ipython3",
   "version": "3.13.2"
  }
 },
 "nbformat": 4,
 "nbformat_minor": 2
}
