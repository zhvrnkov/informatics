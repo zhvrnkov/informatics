{
 "cells": [
  {
   "cell_type": "markdown",
   "metadata": {},
   "source": [
    "# Bayes theorem"
   ]
  },
  {
   "cell_type": "markdown",
   "metadata": {},
   "source": [
    "P(A | B) = probability of A if B\\\n",
    "P(A & B) = P(B) * P(A | B) = P(A) * P(B | A)\\\n",
    "\n",
    "### how to calculate P(A | B)?\n",
    "- P(A) is known\n",
    "- P(B | A) is known\n",
    "- P(B) is known\n",
    "\n",
    "Concrete example:"
   ]
  },
  {
   "cell_type": "code",
   "execution_count": 6,
   "metadata": {},
   "outputs": [
    {
     "name": "stdout",
     "output_type": "stream",
     "text": [
      "0.16666666666666669\n",
      "0.16666666666666669\n"
     ]
    }
   ],
   "source": [
    "P_librarian = 1/21\n",
    "P_farmer = 1 - P_librarian\n",
    "\n",
    "P_shy_if_librarian = 0.4 # probability of shy if librarian\n",
    "P_not_shy_if_librarian = 1 - P_shy_if_librarian\n",
    "\n",
    "P_shy_if_farmer = 0.1\n",
    "P_not_shy_if_farmer = 1 - P_shy_if_farmer\n",
    "P_shy = P_librarian * P_shy_if_librarian + P_farmer * P_shy_if_farmer\n",
    "\n",
    "P_librarian_if_shy = (P_librarian * P_shy_if_librarian) /  P_shy\n",
    "print(P_librarian_if_shy)\n",
    "\n",
    "def P_of_A_if_B(P_A, P_of_B_if_A, P_B):\n",
    "    return P_A * P_of_B_if_A / P_B\n",
    "\n",
    "print(P_of_A_if_B(P_librarian, P_shy_if_librarian, P_shy))"
   ]
  },
  {
   "cell_type": "markdown",
   "metadata": {},
   "source": [
    "### Deduction of Bayes Theorem from AND\n",
    "P(A & B) = P(B) * P(A | B) = P(A) * P(B | A)\\\n",
    "P(B) * P(A | B) = P(A) * P(B | A)\n",
    "\n",
    "\n",
    "P(A | B) = P(A) * P(B | A) / P(B)\n"
   ]
  },
  {
   "cell_type": "markdown",
   "metadata": {},
   "source": [
    "Evidence should NOT DETERMINE beliefs but UPDATE them\n",
    "\n",
    "### Chain of Bayes Theorem"
   ]
  },
  {
   "cell_type": "code",
   "execution_count": 70,
   "metadata": {},
   "outputs": [
    {
     "name": "stdout",
     "output_type": "stream",
     "text": [
      "0.09016393442622944 0.9098360655737706\n",
      "number of positive = 10980.00000000001\n",
      "number of positive and sick = 990.0\n",
      "number of positive and good = 9990.00000000001\n",
      "10980.00000000001\n",
      "0.0009801\n",
      "total x2 positive = 0.0010800000000000002\n",
      "sick if x2 positive = 0.9074999999999999\n",
      "\n",
      "sick if positive = 0.09016393442622944\n",
      "0.9074999999999999\n",
      "0.9074999999999999\n"
     ]
    }
   ],
   "source": [
    "P_sick = 1 / 1000\n",
    "P_good = 1 - P_sick\n",
    "\n",
    "P_positive_if_sick = 0.99\n",
    "P_positive_if_good = 1 - P_positive_if_sick\n",
    "\n",
    "P_positive = P_sick * P_positive_if_sick + P_good * P_positive_if_good\n",
    "P_sick_if_positive = P_sick * P_positive_if_sick / P_positive \n",
    "P_good_if_positive = P_good * P_positive_if_good / P_positive \n",
    "print(P_sick_if_positive, P_good_if_positive)\n",
    "\n",
    "N = 1_000_000\n",
    "N_positive = N * P_positive\n",
    "N_positive_and_sick = N * P_sick * P_positive_if_sick\n",
    "N_positive_and_good = N * P_good * P_positive_if_good\n",
    "print(f\"number of positive = {N_positive}\")\n",
    "print(f\"number of positive and sick = {N_positive_and_sick}\")\n",
    "print(f\"number of positive and good = {N_positive_and_good}\")\n",
    "\n",
    "print(N_positive)\n",
    "P_positive_and_seek2 = (P_sick * P_positive_if_sick) * P_positive_if_sick\n",
    "print(P_positive_and_seek2)\n",
    "P_positive_and_good2 = (P_good * P_positive_if_good) * P_positive_if_good\n",
    "P_positive2 = P_positive_and_seek2 + P_positive_and_good2\n",
    "print(f\"total x2 positive = {P_positive2}\")\n",
    "print(f\"sick if x2 positive = {P_positive_and_seek2 / P_positive2}\")\n",
    "print()\n",
    "\n",
    "print(f\"sick if positive = {P_of_A_if_B(P_sick, P_positive_if_sick, P_positive)}\")\n",
    "\n",
    "P_positive_and_positive_if_sick = P_positive_if_sick * P_positive_if_sick\n",
    "P_positive_and_positive = P_positive2\n",
    "P_sick_if_positive_and_positive = P_of_A_if_B(P_sick, P_positive_and_positive_if_sick, P_positive_and_positive)\n",
    "print(P_sick_if_positive_and_positive)\n",
    "\n",
    "P_positive2 = P_sick_if_positive * P_positive_if_sick + (1 - P_sick_if_positive) * P_positive_if_good\n",
    "P_sick_if_positive_if_positive = P_of_A_if_B(P_sick_if_positive, P_positive_if_sick, P_positive2)\n",
    "print(P_sick_if_positive_if_positive)\n"
   ]
  },
  {
   "cell_type": "code",
   "execution_count": 72,
   "metadata": {},
   "outputs": [
    {
     "name": "stdout",
     "output_type": "stream",
     "text": [
      "0.9074999999999999\n"
     ]
    }
   ],
   "source": [
    "# P_sick is just P(sick | positive) from previous calculations! \n",
    "P_sick = 0.09016393442622944\n",
    "P_good = 1 - P_sick\n",
    "\n",
    "P_positive_if_sick = 0.99\n",
    "P_positive_if_good = 1 - P_positive_if_sick\n",
    "\n",
    "P_positive = P_sick * P_positive_if_sick + P_good * P_positive_if_good\n",
    "print(P_sick * P_positive_if_sick / P_positive)"
   ]
  },
  {
   "cell_type": "code",
   "execution_count": null,
   "metadata": {},
   "outputs": [],
   "source": []
  }
 ],
 "metadata": {
  "kernelspec": {
   "display_name": "Python 3",
   "language": "python",
   "name": "python3"
  },
  "language_info": {
   "codemirror_mode": {
    "name": "ipython",
    "version": 3
   },
   "file_extension": ".py",
   "mimetype": "text/x-python",
   "name": "python",
   "nbconvert_exporter": "python",
   "pygments_lexer": "ipython3",
   "version": "3.13.2"
  }
 },
 "nbformat": 4,
 "nbformat_minor": 2
}
